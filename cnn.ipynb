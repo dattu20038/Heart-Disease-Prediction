{
 "cells": [
  {
   "cell_type": "code",
   "execution_count": 12,
   "id": "e308102a-c6c5-4177-b647-33494427f8ae",
   "metadata": {},
   "outputs": [],
   "source": [
    "import numpy as np\n",
    "import pandas as pd\n",
    "from sklearn.preprocessing import StandardScaler\n",
    "from sklearn.model_selection import train_test_split\n",
    "import tensorflow as tf\n",
    "from tensorflow.keras.models import Sequential\n",
    "from tensorflow.keras.layers import Conv1D, MaxPooling1D, Flatten, Dense, Dropout"
   ]
  },
  {
   "cell_type": "code",
   "execution_count": 13,
   "id": "3b122dee-cc9e-45b1-855c-941149b37745",
   "metadata": {},
   "outputs": [],
   "source": [
    "# Load data\n",
    "heart_df = pd.read_csv('Heart_disease_cleveland_new.csv')"
   ]
  },
  {
   "cell_type": "code",
   "execution_count": 14,
   "id": "cbd4fcb3-5e52-439c-9118-0f8585e2fe73",
   "metadata": {},
   "outputs": [],
   "source": [
    "# Separating the data and labels\n",
    "X = heart_df.drop(columns='target', axis=1)\n",
    "Y = heart_df['target']"
   ]
  },
  {
   "cell_type": "code",
   "execution_count": 15,
   "id": "bedbf97c-3387-423d-9775-a5253d560a8b",
   "metadata": {},
   "outputs": [],
   "source": [
    "# Data standardization\n",
    "scaler = StandardScaler()\n",
    "scaler.fit(X)\n",
    "X_scaled = scaler.transform(X)"
   ]
  },
  {
   "cell_type": "code",
   "execution_count": 16,
   "id": "d6b12ee7-c9ba-4b8d-8562-0a3c4c83dca2",
   "metadata": {},
   "outputs": [],
   "source": [
    "# Train-Test-Split\n",
    "X_train, X_test, Y_train, Y_test = train_test_split(X_scaled, Y, test_size=0.2, stratify=Y, random_state=2)"
   ]
  },
  {
   "cell_type": "code",
   "execution_count": 17,
   "id": "ec8aaea4-dfb4-4b8e-b409-f6958bbdd976",
   "metadata": {},
   "outputs": [],
   "source": [
    "# Reshape data for CNN\n",
    "X_train_cnn = X_train.reshape(X_train.shape[0], X_train.shape[1], 1)\n",
    "X_test_cnn = X_test.reshape(X_test.shape[0], X_test.shape[1], 1)"
   ]
  },
  {
   "cell_type": "code",
   "execution_count": 18,
   "id": "ad9f3a0b-0226-41db-aa0e-48797a098bc5",
   "metadata": {},
   "outputs": [
    {
     "name": "stderr",
     "output_type": "stream",
     "text": [
      "c:\\users\\dattu gollapinni\\pythonproject23\\venv\\lib\\site-packages\\keras\\src\\layers\\convolutional\\base_conv.py:99: UserWarning: Do not pass an `input_shape`/`input_dim` argument to a layer. When using Sequential models, prefer using an `Input(shape)` object as the first layer in the model instead.\n",
      "  super().__init__(\n"
     ]
    }
   ],
   "source": [
    "# Build CNN model\n",
    "model_cnn = Sequential([\n",
    "    Conv1D(filters=32, kernel_size=3, activation='relu', input_shape=(X_train_cnn.shape[1], 1)),\n",
    "    MaxPooling1D(pool_size=2),\n",
    "    Conv1D(filters=64, kernel_size=3, activation='relu'),\n",
    "    MaxPooling1D(pool_size=2),\n",
    "    Flatten(),\n",
    "    Dense(128, activation='relu'),\n",
    "    Dropout(0.5),\n",
    "    Dense(1, activation='sigmoid')\n",
    "])"
   ]
  },
  {
   "cell_type": "code",
   "execution_count": 19,
   "id": "e27d411b-73cf-466e-855b-05c86405ab21",
   "metadata": {},
   "outputs": [],
   "source": [
    "model_cnn.compile(optimizer='adam', loss='binary_crossentropy', metrics=['accuracy'])\n"
   ]
  },
  {
   "cell_type": "code",
   "execution_count": 20,
   "id": "7b93a69c-5be5-4f9d-92e9-3ec237c91987",
   "metadata": {},
   "outputs": [
    {
     "name": "stdout",
     "output_type": "stream",
     "text": [
      "Epoch 1/20\n",
      "\u001b[1m8/8\u001b[0m \u001b[32m━━━━━━━━━━━━━━━━━━━━\u001b[0m\u001b[37m\u001b[0m \u001b[1m3s\u001b[0m 50ms/step - accuracy: 0.5475 - loss: 0.6883 - val_accuracy: 0.6230 - val_loss: 0.6785\n",
      "Epoch 2/20\n",
      "\u001b[1m8/8\u001b[0m \u001b[32m━━━━━━━━━━━━━━━━━━━━\u001b[0m\u001b[37m\u001b[0m \u001b[1m0s\u001b[0m 13ms/step - accuracy: 0.7281 - loss: 0.6591 - val_accuracy: 0.7705 - val_loss: 0.6523\n",
      "Epoch 3/20\n",
      "\u001b[1m8/8\u001b[0m \u001b[32m━━━━━━━━━━━━━━━━━━━━\u001b[0m\u001b[37m\u001b[0m \u001b[1m0s\u001b[0m 16ms/step - accuracy: 0.6791 - loss: 0.6475 - val_accuracy: 0.7705 - val_loss: 0.6261\n",
      "Epoch 4/20\n",
      "\u001b[1m8/8\u001b[0m \u001b[32m━━━━━━━━━━━━━━━━━━━━\u001b[0m\u001b[37m\u001b[0m \u001b[1m0s\u001b[0m 12ms/step - accuracy: 0.6983 - loss: 0.6210 - val_accuracy: 0.7541 - val_loss: 0.5944\n",
      "Epoch 5/20\n",
      "\u001b[1m8/8\u001b[0m \u001b[32m━━━━━━━━━━━━━━━━━━━━\u001b[0m\u001b[37m\u001b[0m \u001b[1m0s\u001b[0m 11ms/step - accuracy: 0.7613 - loss: 0.5693 - val_accuracy: 0.7869 - val_loss: 0.5661\n",
      "Epoch 6/20\n",
      "\u001b[1m8/8\u001b[0m \u001b[32m━━━━━━━━━━━━━━━━━━━━\u001b[0m\u001b[37m\u001b[0m \u001b[1m0s\u001b[0m 9ms/step - accuracy: 0.7580 - loss: 0.5548 - val_accuracy: 0.7869 - val_loss: 0.5447\n",
      "Epoch 7/20\n",
      "\u001b[1m8/8\u001b[0m \u001b[32m━━━━━━━━━━━━━━━━━━━━\u001b[0m\u001b[37m\u001b[0m \u001b[1m0s\u001b[0m 14ms/step - accuracy: 0.8044 - loss: 0.4860 - val_accuracy: 0.7869 - val_loss: 0.5333\n",
      "Epoch 8/20\n",
      "\u001b[1m8/8\u001b[0m \u001b[32m━━━━━━━━━━━━━━━━━━━━\u001b[0m\u001b[37m\u001b[0m \u001b[1m0s\u001b[0m 13ms/step - accuracy: 0.8262 - loss: 0.4510 - val_accuracy: 0.7541 - val_loss: 0.5292\n",
      "Epoch 9/20\n",
      "\u001b[1m8/8\u001b[0m \u001b[32m━━━━━━━━━━━━━━━━━━━━\u001b[0m\u001b[37m\u001b[0m \u001b[1m0s\u001b[0m 9ms/step - accuracy: 0.8008 - loss: 0.4586 - val_accuracy: 0.8033 - val_loss: 0.5218\n",
      "Epoch 10/20\n",
      "\u001b[1m8/8\u001b[0m \u001b[32m━━━━━━━━━━━━━━━━━━━━\u001b[0m\u001b[37m\u001b[0m \u001b[1m0s\u001b[0m 11ms/step - accuracy: 0.7851 - loss: 0.4576 - val_accuracy: 0.8197 - val_loss: 0.5214\n",
      "Epoch 11/20\n",
      "\u001b[1m8/8\u001b[0m \u001b[32m━━━━━━━━━━━━━━━━━━━━\u001b[0m\u001b[37m\u001b[0m \u001b[1m0s\u001b[0m 12ms/step - accuracy: 0.7942 - loss: 0.4796 - val_accuracy: 0.7869 - val_loss: 0.5292\n",
      "Epoch 12/20\n",
      "\u001b[1m8/8\u001b[0m \u001b[32m━━━━━━━━━━━━━━━━━━━━\u001b[0m\u001b[37m\u001b[0m \u001b[1m0s\u001b[0m 15ms/step - accuracy: 0.8244 - loss: 0.4204 - val_accuracy: 0.7705 - val_loss: 0.5385\n",
      "Epoch 13/20\n",
      "\u001b[1m8/8\u001b[0m \u001b[32m━━━━━━━━━━━━━━━━━━━━\u001b[0m\u001b[37m\u001b[0m \u001b[1m0s\u001b[0m 16ms/step - accuracy: 0.8207 - loss: 0.4017 - val_accuracy: 0.7705 - val_loss: 0.5535\n",
      "Epoch 14/20\n",
      "\u001b[1m8/8\u001b[0m \u001b[32m━━━━━━━━━━━━━━━━━━━━\u001b[0m\u001b[37m\u001b[0m \u001b[1m0s\u001b[0m 16ms/step - accuracy: 0.8494 - loss: 0.3616 - val_accuracy: 0.7869 - val_loss: 0.5405\n",
      "Epoch 15/20\n",
      "\u001b[1m8/8\u001b[0m \u001b[32m━━━━━━━━━━━━━━━━━━━━\u001b[0m\u001b[37m\u001b[0m \u001b[1m0s\u001b[0m 11ms/step - accuracy: 0.8445 - loss: 0.3704 - val_accuracy: 0.7541 - val_loss: 0.5478\n",
      "Epoch 16/20\n",
      "\u001b[1m8/8\u001b[0m \u001b[32m━━━━━━━━━━━━━━━━━━━━\u001b[0m\u001b[37m\u001b[0m \u001b[1m0s\u001b[0m 11ms/step - accuracy: 0.8375 - loss: 0.3533 - val_accuracy: 0.7869 - val_loss: 0.5412\n",
      "Epoch 17/20\n",
      "\u001b[1m8/8\u001b[0m \u001b[32m━━━━━━━━━━━━━━━━━━━━\u001b[0m\u001b[37m\u001b[0m \u001b[1m0s\u001b[0m 10ms/step - accuracy: 0.8297 - loss: 0.3780 - val_accuracy: 0.7705 - val_loss: 0.5431\n",
      "Epoch 18/20\n",
      "\u001b[1m8/8\u001b[0m \u001b[32m━━━━━━━━━━━━━━━━━━━━\u001b[0m\u001b[37m\u001b[0m \u001b[1m0s\u001b[0m 11ms/step - accuracy: 0.8148 - loss: 0.3953 - val_accuracy: 0.8033 - val_loss: 0.5390\n",
      "Epoch 19/20\n",
      "\u001b[1m8/8\u001b[0m \u001b[32m━━━━━━━━━━━━━━━━━━━━\u001b[0m\u001b[37m\u001b[0m \u001b[1m0s\u001b[0m 10ms/step - accuracy: 0.8443 - loss: 0.3611 - val_accuracy: 0.8033 - val_loss: 0.5404\n",
      "Epoch 20/20\n",
      "\u001b[1m8/8\u001b[0m \u001b[32m━━━━━━━━━━━━━━━━━━━━\u001b[0m\u001b[37m\u001b[0m \u001b[1m0s\u001b[0m 11ms/step - accuracy: 0.8066 - loss: 0.3964 - val_accuracy: 0.8033 - val_loss: 0.5369\n"
     ]
    },
    {
     "data": {
      "text/plain": [
       "<keras.src.callbacks.history.History at 0x1e7c663dee0>"
      ]
     },
     "execution_count": 20,
     "metadata": {},
     "output_type": "execute_result"
    }
   ],
   "source": [
    "# Train CNN model\n",
    "model_cnn.fit(X_train_cnn, Y_train, epochs=20, validation_data=(X_test_cnn, Y_test), verbose=1)\n"
   ]
  },
  {
   "cell_type": "code",
   "execution_count": 10,
   "id": "c5c522f9-2b0e-457b-8b86-89e0f2704378",
   "metadata": {},
   "outputs": [
    {
     "name": "stdout",
     "output_type": "stream",
     "text": [
      "\u001b[1m1/1\u001b[0m \u001b[32m━━━━━━━━━━━━━━━━━━━━\u001b[0m\u001b[37m\u001b[0m \u001b[1m0s\u001b[0m 78ms/step\n",
      "CNN Prediction for System2: No Heart Disease\n"
     ]
    },
    {
     "name": "stderr",
     "output_type": "stream",
     "text": [
      "c:\\users\\dattu gollapinni\\pythonproject23\\venv\\lib\\site-packages\\sklearn\\base.py:465: UserWarning: X does not have valid feature names, but StandardScaler was fitted with feature names\n",
      "  warnings.warn(\n"
     ]
    }
   ],
   "source": [
    "# Reshape data for CNN prediction\n",
    "data_1 = np.array((52,0,2,140,208,0,1,170,0,0,1,0,2))  # Convert to numpy array\n",
    "data_reshaped = data_1.reshape(1, len(data_1))  # Reshape for CNN input\n",
    "data_standard_cnn = scaler.transform(data_reshaped)  # Scale the data\n",
    "data_standard_cnn = data_standard_cnn.reshape(1, data_standard_cnn.shape[1], 1)  # Reshape for CNN input\n",
    "prediction_cnn = model_cnn.predict(data_standard_cnn)  # Make prediction\n",
    "\n",
    "# Check prediction\n",
    "if prediction_cnn[0][0] >= 0.5:\n",
    "    print('CNN Prediction for System2: Heart Disease')\n",
    "else:\n",
    "    print('CNN Prediction for System2: No Heart Disease')\n"
   ]
  },
  {
   "cell_type": "code",
   "execution_count": 11,
   "id": "2ea2d45c-a697-4a96-af69-da5caefa0b42",
   "metadata": {},
   "outputs": [
    {
     "name": "stdout",
     "output_type": "stream",
     "text": [
      "\u001b[1m1/1\u001b[0m \u001b[32m━━━━━━━━━━━━━━━━━━━━\u001b[0m\u001b[37m\u001b[0m \u001b[1m0s\u001b[0m 16ms/step"
     ]
    },
    {
     "name": "stderr",
     "output_type": "stream",
     "text": [
      "c:\\users\\dattu gollapinni\\pythonproject23\\venv\\lib\\site-packages\\sklearn\\base.py:465: UserWarning: X does not have valid feature names, but StandardScaler was fitted with feature names\n",
      "  warnings.warn(\n"
     ]
    },
    {
     "name": "stdout",
     "output_type": "stream",
     "text": [
      "\u001b[1m1/1\u001b[0m \u001b[32m━━━━━━━━━━━━━━━━━━━━\u001b[0m\u001b[37m\u001b[0m \u001b[1m0s\u001b[0m 16ms/step\n",
      "CNN Prediction for System: No Heart Disease\n"
     ]
    }
   ],
   "source": [
    "# Reshape data for CNN prediction\n",
    "data = np.array((62, 0, 0, 138, 294, 1, 1, 106, 0, 1.9, 1, 3, 2))  # Convert to numpy array\n",
    "data_reshaped = data.reshape(1, -1)  # Reshape for CNN input\n",
    "data_standard = scaler.transform(data_reshaped)  # Scale the data\n",
    "data_standard_cnn = data_standard.reshape(1, data_standard.shape[1], 1)  # Reshape for CNN input\n",
    "prediction_cnn = model_cnn.predict(data_standard_cnn)  # Make prediction\n",
    "\n",
    "# Check prediction\n",
    "if prediction_cnn[0][0] >= 0.5:\n",
    "    print('CNN Prediction for System: Heart Disease')\n",
    "else:\n",
    "    print('CNN Prediction for System: No Heart Disease')\n"
   ]
  },
  {
   "cell_type": "code",
   "execution_count": null,
   "id": "54582c75-12ee-4105-8c83-1d8de645426a",
   "metadata": {},
   "outputs": [],
   "source": []
  },
  {
   "cell_type": "code",
   "execution_count": null,
   "id": "deb98acd-d983-4f33-ae9e-8c6529fd2556",
   "metadata": {},
   "outputs": [],
   "source": []
  }
 ],
 "metadata": {
  "kernelspec": {
   "display_name": "Python 3 (ipykernel)",
   "language": "python",
   "name": "python3"
  },
  "language_info": {
   "codemirror_mode": {
    "name": "ipython",
    "version": 3
   },
   "file_extension": ".py",
   "mimetype": "text/x-python",
   "name": "python",
   "nbconvert_exporter": "python",
   "pygments_lexer": "ipython3",
   "version": "3.9.5"
  }
 },
 "nbformat": 4,
 "nbformat_minor": 5
}
